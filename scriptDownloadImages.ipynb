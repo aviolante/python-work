{
 "cells": [
  {
   "cell_type": "code",
   "execution_count": null,
   "metadata": {
    "collapsed": true
   },
   "outputs": [],
   "source": [
    "# https://marco.ccr.buffalo.edu/\n",
    "\n",
    "# Train\n",
    "# https://marco.ccr.buffalo.edu/data/train/train-00001-of-00407\n",
    "# https://marco.ccr.buffalo.edu/data/train/train-00407-of-00407\n",
    "\n",
    "# Validate\n",
    "# https://marco.ccr.buffalo.edu/data/test/test-00001-of-00046\n",
    "# https://marco.ccr.buffalo.edu/data/test/test-00046-of-00046"
   ]
  },
  {
   "cell_type": "code",
   "execution_count": null,
   "metadata": {
    "collapsed": true
   },
   "outputs": [],
   "source": [
    "# https://www.geeksforgeeks.org/downloading-files-web-using-python/\n",
    "\n",
    "# imported the requests library\n",
    "import requests\n",
    "url = \"https://marco.ccr.buffalo.edu/data/train/train-00001-of-00407\"\n",
    " \n",
    "# URL of the image to be downloaded is defined as image_url\n",
    "r = requests.get(url) # create HTTP response object\n",
    " \n",
    "# send a HTTP request to the server and save\n",
    "# the HTTP response in a response object called r\n",
    "with open(\"data.txt\",'wb') as f:\n",
    " \n",
    "    # Saving received content as a png file in\n",
    "    # binary format\n",
    " \n",
    "    # write the contents of the response (r.content)\n",
    "    # to a new file in binary mode.\n",
    "    f.write(r.content)"
   ]
  }
 ],
 "metadata": {
  "kernelspec": {
   "display_name": "Python 3",
   "language": "python",
   "name": "python3"
  },
  "language_info": {
   "codemirror_mode": {
    "name": "ipython",
    "version": 3
   },
   "file_extension": ".py",
   "mimetype": "text/x-python",
   "name": "python",
   "nbconvert_exporter": "python",
   "pygments_lexer": "ipython3",
   "version": "3.6.3"
  }
 },
 "nbformat": 4,
 "nbformat_minor": 2
}
