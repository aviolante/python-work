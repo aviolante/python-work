{
 "cells": [
  {
   "cell_type": "code",
   "execution_count": null,
   "metadata": {
    "collapsed": true
   },
   "outputs": [],
   "source": [
    "# https://marco.ccr.buffalo.edu/\n",
    "\n",
    "# Train\n",
    "# https://marco.ccr.buffalo.edu/data/train/train-00001-of-00407\n",
    "# https://marco.ccr.buffalo.edu/data/train/train-00407-of-00407\n",
    "\n",
    "# Validate\n",
    "# https://marco.ccr.buffalo.edu/data/test/test-00001-of-00046\n",
    "# https://marco.ccr.buffalo.edu/data/test/test-00046-of-00046"
   ]
  },
  {
   "cell_type": "code",
   "execution_count": null,
   "metadata": {
    "collapsed": true
   },
   "outputs": [],
   "source": [
    "import requests\n",
    "import os\n",
    "\n",
    "os.chdir('/Users/anviol/Desktop/MARCO Project/train/')\n",
    "\n",
    "for i in range(1, 408):\n",
    "    url = \"https://marco.ccr.buffalo.edu/data/train/train-\" + str(i).zfill(5) + \"-of-00407\"\n",
    "    r = requests.get(url)\n",
    "    # you might have to change the extension\n",
    "    with open(\"marcoTrainData\" + str(i).zfill(5) + \".tfrecords\", 'wb') as f:\n",
    "        f.write(r.content)\n",
    "\n",
    "os.chdir('/Users/anviol/Desktop/MARCO Project/validation/')\n",
    "\n",
    "for i in range(1, 47):\n",
    "    url = \"https://marco.ccr.buffalo.edu/data/test/test-\" + str(i).zfill(5) + \"-of-00046\"\n",
    "    r = requests.get(url)\n",
    "    # you might have to change the extension\n",
    "    with open(\"marcoTestData\" + str(i).zfill(5) + \".tfrecords\", 'wb') as f:\n",
    "        f.write(r.content)"
   ]
  }
 ],
 "metadata": {
  "kernelspec": {
   "display_name": "Python 3",
   "language": "python",
   "name": "python3"
  },
  "language_info": {
   "codemirror_mode": {
    "name": "ipython",
    "version": 3
   },
   "file_extension": ".py",
   "mimetype": "text/x-python",
   "name": "python",
   "nbconvert_exporter": "python",
   "pygments_lexer": "ipython3",
   "version": "3.6.3"
  }
 },
 "nbformat": 4,
 "nbformat_minor": 2
}
